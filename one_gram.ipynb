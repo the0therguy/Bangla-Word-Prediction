{
  "nbformat": 4,
  "nbformat_minor": 0,
  "metadata": {
    "accelerator": "GPU",
    "colab": {
      "name": "one_gram.ipynb",
      "provenance": []
    },
    "kernelspec": {
      "display_name": "Python 3",
      "name": "python3"
    }
  },
  "cells": [
    {
      "cell_type": "code",
      "metadata": {
        "id": "MLcxpIBARPV-"
      },
      "source": [
        "from google.colab import files\n",
        "\n",
        "uploaded = files.upload()"
      ],
      "execution_count": null,
      "outputs": []
    },
    {
      "cell_type": "code",
      "metadata": {
        "id": "pIVYVYEXkmVd",
        "colab": {
          "base_uri": "https://localhost:8080/"
        },
        "outputId": "b9005344-734e-498f-aa3b-d4ee0c3dd6d2"
      },
      "source": [
        "import json\n",
        "\n",
        "with open('one_emne.json','r',encoding='utf-8') as file:\n",
        "    lines = json.load(file)\n",
        "\n",
        "print(type(lines))\n",
        "print(lines[1000])"
      ],
      "execution_count": null,
      "outputs": [
        {
          "output_type": "stream",
          "text": [
            "<class 'list'>\n",
            "ও মরীচিকা\n"
          ],
          "name": "stdout"
        }
      ]
    },
    {
      "cell_type": "code",
      "metadata": {
        "id": "Q4yJAYXTRUiP"
      },
      "source": [
        "from numpy import array\n",
        "from tensorflow.keras.callbacks import CSVLogger\n",
        "import numpy as np\n",
        "from pickle import dump\n",
        "from tensorflow.keras.preprocessing.text import Tokenizer\n",
        "from tensorflow.keras.utils import to_categorical\n",
        "from tensorflow.keras.models import Sequential\n",
        "from tensorflow.keras.layers import Dense,LSTM,GRU,Embedding"
      ],
      "execution_count": null,
      "outputs": []
    },
    {
      "cell_type": "code",
      "metadata": {
        "id": "OwD0OPiRSHy9"
      },
      "source": [
        "lines"
      ],
      "execution_count": null,
      "outputs": []
    },
    {
      "cell_type": "code",
      "metadata": {
        "id": "XJwgb7gwUzbj",
        "colab": {
          "base_uri": "https://localhost:8080/",
          "height": 35
        },
        "outputId": "b0678743-18c7-491e-d001-beb33abf21b8"
      },
      "source": [
        "lines[218]"
      ],
      "execution_count": null,
      "outputs": [
        {
          "output_type": "execute_result",
          "data": {
            "application/vnd.google.colaboratory.intrinsic+json": {
              "type": "string"
            },
            "text/plain": [
              "'বহু মানুষ'"
            ]
          },
          "metadata": {
            "tags": []
          },
          "execution_count": 5
        }
      ]
    },
    {
      "cell_type": "code",
      "metadata": {
        "id": "Mr6mqTKiSPAm"
      },
      "source": [
        "tokenizer = Tokenizer()\n",
        "tokenizer.fit_on_texts(lines)\n",
        "sequences = tokenizer.texts_to_sequences(lines)\n",
        "vocab_size = len(tokenizer.word_index)+1"
      ],
      "execution_count": null,
      "outputs": []
    },
    {
      "cell_type": "code",
      "metadata": {
        "id": "VqMciqfNhngn",
        "colab": {
          "base_uri": "https://localhost:8080/"
        },
        "outputId": "f007ff53-0b73-4185-f223-21a67f76dc80"
      },
      "source": [
        "print(vocab_size)"
      ],
      "execution_count": null,
      "outputs": [
        {
          "output_type": "stream",
          "text": [
            "10239\n"
          ],
          "name": "stdout"
        }
      ]
    },
    {
      "cell_type": "code",
      "metadata": {
        "id": "by9gFTbES8_v",
        "colab": {
          "base_uri": "https://localhost:8080/"
        },
        "outputId": "a5acad8d-871c-465a-f0fb-282715b9b617"
      },
      "source": [
        "sequences = array(sequences)\n",
        "sequences"
      ],
      "execution_count": null,
      "outputs": [
        {
          "output_type": "stream",
          "text": [
            "/usr/local/lib/python3.6/dist-packages/ipykernel_launcher.py:1: VisibleDeprecationWarning: Creating an ndarray from ragged nested sequences (which is a list-or-tuple of lists-or-tuples-or ndarrays with different lengths or shapes) is deprecated. If you meant to do this, you must specify 'dtype=object' when creating the ndarray\n",
            "  \"\"\"Entry point for launching an IPython kernel.\n"
          ],
          "name": "stderr"
        },
        {
          "output_type": "execute_result",
          "data": {
            "text/plain": [
              "array([list([7, 46]), list([46, 1821]), list([1821, 136]), ...,\n",
              "       list([24, 157]), list([157, 126]), list([126, 149])], dtype=object)"
            ]
          },
          "metadata": {
            "tags": []
          },
          "execution_count": 8
        }
      ]
    },
    {
      "cell_type": "code",
      "metadata": {
        "id": "o0f1yukFTS4N"
      },
      "source": [
        "c=1\n",
        "h=0\n",
        "while(c!=0):\n",
        "    limit = sequences.size\n",
        "    d = []\n",
        "    c = 0\n",
        "    for i in range(0, limit):\n",
        "        l = len(sequences[i])\n",
        "        if(l!=2):\n",
        "            print(sequences[i])\n",
        "            sequences = np.delete(sequences, i, 0)\n",
        "            print(lines[i])\n",
        "            c=1\n",
        "            print('error at ',i)\n",
        "            print('Deleting at:_______',i)\n",
        "            h=h+1\n",
        "            break\n",
        "\n",
        "print(\"total deletion: \",h)\n"
      ],
      "execution_count": null,
      "outputs": []
    },
    {
      "cell_type": "code",
      "metadata": {
        "id": "L_F5ytIbfWbv",
        "colab": {
          "base_uri": "https://localhost:8080/"
        },
        "outputId": "1d142dcb-17c6-4000-a017-73d7c18078b1"
      },
      "source": [
        "print(sequences.size)"
      ],
      "execution_count": null,
      "outputs": [
        {
          "output_type": "stream",
          "text": [
            "48488\n"
          ],
          "name": "stdout"
        }
      ]
    },
    {
      "cell_type": "code",
      "metadata": {
        "id": "PzNTKUZLfcLy",
        "colab": {
          "base_uri": "https://localhost:8080/"
        },
        "outputId": "1a6cd09d-6cb3-4853-939d-6678e7e6ef66"
      },
      "source": [
        "sequences = np.array(sequences.tolist())\n",
        "sequences"
      ],
      "execution_count": null,
      "outputs": [
        {
          "output_type": "execute_result",
          "data": {
            "text/plain": [
              "array([[   7,   46],\n",
              "       [  46, 1821],\n",
              "       [1821,  136],\n",
              "       ...,\n",
              "       [  24,  157],\n",
              "       [ 157,  126],\n",
              "       [ 126,  149]])"
            ]
          },
          "metadata": {
            "tags": []
          },
          "execution_count": 11
        }
      ]
    },
    {
      "cell_type": "code",
      "metadata": {
        "id": "gge47ulHflHz",
        "colab": {
          "base_uri": "https://localhost:8080/"
        },
        "outputId": "c7991e0e-01cc-47bc-eafe-c6d8e9b03d7e"
      },
      "source": [
        "sequences.shape"
      ],
      "execution_count": null,
      "outputs": [
        {
          "output_type": "execute_result",
          "data": {
            "text/plain": [
              "(48488, 2)"
            ]
          },
          "metadata": {
            "tags": []
          },
          "execution_count": 12
        }
      ]
    },
    {
      "cell_type": "code",
      "metadata": {
        "id": "aChLAIeMfrxN"
      },
      "source": [
        "sequences = array(sequences)\n",
        "x, y = sequences[:,:-1],sequences[:,-1]\n",
        "y = to_categorical(y, num_classes=vocab_size)\n",
        "seq_length = x.shape[1]"
      ],
      "execution_count": null,
      "outputs": []
    },
    {
      "cell_type": "code",
      "metadata": {
        "id": "vqd3C9_yhvm6",
        "colab": {
          "base_uri": "https://localhost:8080/"
        },
        "outputId": "8f3272bb-7345-4f43-e10d-ce39e2d0b59b"
      },
      "source": [
        "seq_length"
      ],
      "execution_count": null,
      "outputs": [
        {
          "output_type": "execute_result",
          "data": {
            "text/plain": [
              "1"
            ]
          },
          "metadata": {
            "tags": []
          },
          "execution_count": 14
        }
      ]
    },
    {
      "cell_type": "code",
      "metadata": {
        "id": "M5iz4c0ggIch"
      },
      "source": [
        "model = Sequential()\n",
        "model.add(Embedding(vocab_size, 50, input_length=seq_length))\n",
        "model.add(GRU(100, return_sequences=True))\n",
        "model.add(GRU(100))\n",
        "model.add(Dense(100, activation='relu'))\n",
        "model.add(Dense(vocab_size, activation='softmax'))\n",
        "print(model.summary())\n",
        "\n",
        "model.compile(loss = 'categorical_crossentropy', optimizer = 'adam', metrics = ['accuracy'])\n",
        "csv_logger = CSVLogger('training_1_1.log')\n",
        "model.fit(x, y, batch_size=500, epochs=1000, callbacks=[csv_logger])"
      ],
      "execution_count": null,
      "outputs": []
    }
  ]
}